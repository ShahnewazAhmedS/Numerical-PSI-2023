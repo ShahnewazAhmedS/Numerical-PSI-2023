{
 "cells": [
  {
   "cell_type": "markdown",
   "id": "sharing-railway",
   "metadata": {},
   "source": [
    "# Linear Algebra"
   ]
  },
  {
   "cell_type": "markdown",
   "id": "acceptable-harvest",
   "metadata": {},
   "source": [
    "## Vector and Matrics"
   ]
  },
  {
   "cell_type": "code",
   "execution_count": 1,
   "id": "hawaiian-theory",
   "metadata": {},
   "outputs": [],
   "source": [
    "using LinearAlgebra"
   ]
  },
  {
   "cell_type": "code",
   "execution_count": 2,
   "id": "fresh-character",
   "metadata": {},
   "outputs": [
    {
     "data": {
      "text/plain": [
       "4-element Vector{Float64}:\n",
       " 0.0\n",
       " 0.0\n",
       " 0.0\n",
       " 0.0"
      ]
     },
     "execution_count": 2,
     "metadata": {},
     "output_type": "execute_result"
    }
   ],
   "source": [
    "# defintition of vectors\n",
    "x = zeros(4)#zeros(4,4)#[1 2; 3 4] #randn(4) #fill(89, 3)\n",
    "#x + I"
   ]
  },
  {
   "cell_type": "code",
   "execution_count": 3,
   "id": "twenty-waterproof",
   "metadata": {},
   "outputs": [
    {
     "data": {
      "text/plain": [
       "UniformScaling{Bool}"
      ]
     },
     "execution_count": 3,
     "metadata": {},
     "output_type": "execute_result"
    }
   ],
   "source": [
    "typeof(I) # this is overloaded using the Linear Algebra"
   ]
  },
  {
   "cell_type": "code",
   "execution_count": 4,
   "id": "comparative-calendar",
   "metadata": {},
   "outputs": [
    {
     "data": {
      "text/plain": [
       "1×4 adjoint(::Vector{Float64}) with eltype Float64:\n",
       " 0.0  0.0  0.0  0.0"
      ]
     },
     "execution_count": 4,
     "metadata": {},
     "output_type": "execute_result"
    }
   ],
   "source": [
    "x' # traspose(x) would also work here"
   ]
  },
  {
   "cell_type": "code",
   "execution_count": 5,
   "id": "dependent-facility",
   "metadata": {},
   "outputs": [
    {
     "data": {
      "text/plain": [
       "Adjoint{Float64, Vector{Float64}}"
      ]
     },
     "execution_count": 5,
     "metadata": {},
     "output_type": "execute_result"
    }
   ],
   "source": [
    "typeof(x')"
   ]
  },
  {
   "cell_type": "code",
   "execution_count": 6,
   "id": "desperate-entry",
   "metadata": {},
   "outputs": [
    {
     "data": {
      "text/plain": [
       "Vector{Float64}\u001b[90m (alias for \u001b[39m\u001b[90mArray{Float64, 1}\u001b[39m\u001b[90m)\u001b[39m"
      ]
     },
     "execution_count": 6,
     "metadata": {},
     "output_type": "execute_result"
    }
   ],
   "source": [
    "typeof(x'')"
   ]
  },
  {
   "cell_type": "code",
   "execution_count": 7,
   "id": "entitled-cassette",
   "metadata": {},
   "outputs": [
    {
     "data": {
      "text/plain": [
       "2×2×2 Array{Int64, 3}:\n",
       "[:, :, 1] =\n",
       " 1  3\n",
       " 2  4\n",
       "\n",
       "[:, :, 2] =\n",
       " 5  7\n",
       " 6  8"
      ]
     },
     "execution_count": 7,
     "metadata": {},
     "output_type": "execute_result"
    }
   ],
   "source": [
    "# three dimensional matrix\n",
    "M = [1;2;; 3;4;;; 5;6;; 7;8]"
   ]
  },
  {
   "cell_type": "code",
   "execution_count": 8,
   "id": "upper-energy",
   "metadata": {},
   "outputs": [
    {
     "data": {
      "text/plain": [
       "4×2 Matrix{Int64}:\n",
       " 1  5\n",
       " 2  6\n",
       " 3  7\n",
       " 4  8"
      ]
     },
     "execution_count": 8,
     "metadata": {},
     "output_type": "execute_result"
    }
   ],
   "source": [
    "reshape(M,(4,2))"
   ]
  },
  {
   "cell_type": "code",
   "execution_count": 9,
   "id": "pacific-iceland",
   "metadata": {},
   "outputs": [
    {
     "data": {
      "text/plain": [
       "2×4 Matrix{Int64}:\n",
       " 1  3  5  7\n",
       " 2  4  6  8"
      ]
     },
     "execution_count": 9,
     "metadata": {},
     "output_type": "execute_result"
    }
   ],
   "source": [
    "reshape(M,(2,4)) # interpret as a single vector M as a list then reshape it"
   ]
  },
  {
   "cell_type": "markdown",
   "id": "grateful-dominican",
   "metadata": {},
   "source": [
    "# Matrix types\n",
    "\n",
    "- dense (full)\n",
    "- symmetric\n",
    "- triangular matrices\n",
    "- diagonal (storage are efficient if you define it such)\n",
    "- bi- diagonal or tri- diagonal (100 times or million times faster)\n",
    "- sparse matrix (most of the entries are zeros)\n"
   ]
  },
  {
   "cell_type": "code",
   "execution_count": 10,
   "id": "imposed-crack",
   "metadata": {},
   "outputs": [
    {
     "data": {
      "text/plain": [
       "10×10 Matrix{Float64}:\n",
       " 0.942077   0.965691  0.88784   0.562646  …  0.528765   0.0878948  0.767142\n",
       " 0.784175   0.377635  0.689395  0.584388     0.539022   0.590604   0.890042\n",
       " 0.77213    0.915486  0.409364  0.475208     0.398243   0.705265   0.955288\n",
       " 0.310156   0.874472  0.95764   0.23677      0.476028   0.331062   0.420232\n",
       " 0.237703   0.594002  0.872162  0.239734     0.568534   0.259815   0.979641\n",
       " 0.564198   0.66327   0.420455  0.905859  …  0.554669   0.811955   0.23485\n",
       " 0.983523   0.106797  0.754497  0.114469     0.707223   0.490961   0.576462\n",
       " 0.359889   0.640381  0.538785  0.093185     0.624472   0.966792   0.633796\n",
       " 0.826241   0.04384   0.987872  0.56373      0.0951485  0.382618   0.0677745\n",
       " 0.0731436  0.327925  0.547843  0.119314     0.879223   0.676977   0.260016"
      ]
     },
     "execution_count": 10,
     "metadata": {},
     "output_type": "execute_result"
    }
   ],
   "source": [
    "A = rand(10,10)"
   ]
  },
  {
   "cell_type": "code",
   "execution_count": 11,
   "id": "sought-wrapping",
   "metadata": {},
   "outputs": [
    {
     "data": {
      "text/plain": [
       "10×10 Symmetric{Float64, Matrix{Float64}}:\n",
       " 0.942077   0.965691  0.88784   0.562646   …  0.528765  0.0878948  0.767142\n",
       " 0.965691   0.377635  0.689395  0.584388      0.539022  0.590604   0.890042\n",
       " 0.88784    0.689395  0.409364  0.475208      0.398243  0.705265   0.955288\n",
       " 0.562646   0.584388  0.475208  0.23677       0.476028  0.331062   0.420232\n",
       " 0.305006   0.708606  0.765528  0.518956      0.568534  0.259815   0.979641\n",
       " 0.635814   0.275007  0.24791   0.471199   …  0.554669  0.811955   0.23485\n",
       " 0.102553   0.144136  0.334147  0.0770773     0.707223  0.490961   0.576462\n",
       " 0.528765   0.539022  0.398243  0.476028      0.624472  0.966792   0.633796\n",
       " 0.0878948  0.590604  0.705265  0.331062      0.966792  0.382618   0.0677745\n",
       " 0.767142   0.890042  0.955288  0.420232      0.633796  0.0677745  0.260016"
      ]
     },
     "execution_count": 11,
     "metadata": {},
     "output_type": "execute_result"
    }
   ],
   "source": [
    "Symmetric(A) # -A would give that upper triangular matrices zer0"
   ]
  },
  {
   "cell_type": "code",
   "execution_count": 12,
   "id": "extensive-classic",
   "metadata": {},
   "outputs": [
    {
     "data": {
      "text/plain": [
       "10×10 Symmetric{Float64, Matrix{Float64}}:\n",
       " 1.88415   1.74987   1.65997   0.872802  …  0.888654  0.914136  0.840286\n",
       " 1.74987   0.755269  1.60488   1.45886      1.1794    0.634444  1.21797\n",
       " 1.65997   1.60488   0.818729  1.43285      0.937029  1.69314   1.50313\n",
       " 0.872802  1.45886   1.43285   0.473541     0.569213  0.894792  0.539546\n",
       " 0.542709  1.30261   1.63769   0.75869      0.730592  1.04545   1.56604\n",
       " 1.20001   0.938278  0.668365  1.37706   …  0.87072   1.12074   0.643727\n",
       " 1.08608   0.250933  1.08864   0.191546     1.06207   0.828628  1.34027\n",
       " 0.888654  1.1794    0.937029  0.569213     1.24894   1.06194   1.51302\n",
       " 0.914136  0.634444  1.69314   0.894792     1.06194   0.765236  0.744752\n",
       " 0.840286  1.21797   1.50313   0.539546     1.51302   0.744752  0.520032"
      ]
     },
     "execution_count": 12,
     "metadata": {},
     "output_type": "execute_result"
    }
   ],
   "source": [
    "Symmetric(A+A') # this is going to change the type"
   ]
  },
  {
   "cell_type": "code",
   "execution_count": 13,
   "id": "talented-while",
   "metadata": {},
   "outputs": [
    {
     "data": {
      "text/plain": [
       "5×5 Diagonal{Float64, Vector{Float64}}:\n",
       " 0.848609   ⋅         ⋅         ⋅          ⋅ \n",
       "  ⋅        0.577059   ⋅         ⋅          ⋅ \n",
       "  ⋅         ⋅        0.142162   ⋅          ⋅ \n",
       "  ⋅         ⋅         ⋅        0.0984814   ⋅ \n",
       "  ⋅         ⋅         ⋅         ⋅         0.399892"
      ]
     },
     "execution_count": 13,
     "metadata": {},
     "output_type": "execute_result"
    }
   ],
   "source": [
    "Diagonal(rand(5))"
   ]
  },
  {
   "cell_type": "markdown",
   "id": "preliminary-romantic",
   "metadata": {},
   "source": [
    "## Operations on matrices"
   ]
  },
  {
   "cell_type": "code",
   "execution_count": 14,
   "id": "given-regular",
   "metadata": {},
   "outputs": [
    {
     "data": {
      "text/plain": [
       "false"
      ]
     },
     "execution_count": 14,
     "metadata": {},
     "output_type": "execute_result"
    }
   ],
   "source": [
    "inv(A) * A == I"
   ]
  },
  {
   "cell_type": "code",
   "execution_count": 15,
   "id": "latin-fiction",
   "metadata": {},
   "outputs": [
    {
     "data": {
      "text/plain": [
       "10×10 Matrix{Float64}:\n",
       "  1.83945     2.4834     2.26496   …  -1.14112    1.28938    3.92509\n",
       "  0.905832    0.218814   1.52729      -0.525314   0.324757   1.75763\n",
       "  0.285651    0.449169  -0.488956      0.417591   0.935421   0.44757\n",
       " -0.0896868  -1.0245    -1.97075       0.788957  -0.477931  -2.41318\n",
       " -0.996805    0.555237   1.04384      -1.43703   -0.179908   0.503118\n",
       " -2.71356    -5.50391   -3.37839   …   1.97754   -2.31367   -7.86533\n",
       "  0.483031   -2.19791    0.213012      0.522134   0.65308   -0.0879706\n",
       "  2.09538     4.65888    1.33789      -1.93119    0.300064   5.96\n",
       " -1.19957    -0.673046  -0.627443      1.47643   -0.154145  -1.77322\n",
       " -1.08653    -1.59292   -1.18645       1.02516   -1.01163   -3.35504"
      ]
     },
     "execution_count": 15,
     "metadata": {},
     "output_type": "execute_result"
    }
   ],
   "source": [
    "inv(A)"
   ]
  },
  {
   "cell_type": "code",
   "execution_count": 16,
   "id": "conscious-montreal",
   "metadata": {},
   "outputs": [
    {
     "data": {
      "text/plain": [
       "5×5 Matrix{Rational{BigInt}}:\n",
       "  -89//50   -177//100     1//4    -177//100  -18//25\n",
       "   39//100   -29//20    -36//25     -7//100    3//4\n",
       "   97//100    73//100   -18//25      9//25    17//50\n",
       " -147//100   -77//100  -189//100     3//50   -31//20\n",
       " -151//100   -53//100   -11//20    -91//50    17//100"
      ]
     },
     "execution_count": 16,
     "metadata": {},
     "output_type": "execute_result"
    }
   ],
   "source": [
    "B = big.(rand(-199:100, 5,5)) // 100"
   ]
  },
  {
   "cell_type": "code",
   "execution_count": 17,
   "id": "destroyed-hello",
   "metadata": {},
   "outputs": [
    {
     "data": {
      "text/plain": [
       "true"
      ]
     },
     "execution_count": 17,
     "metadata": {},
     "output_type": "execute_result"
    }
   ],
   "source": [
    "inv(B)*B == I"
   ]
  },
  {
   "cell_type": "markdown",
   "id": "prime-fifteen",
   "metadata": {},
   "source": [
    "## Floating point numbers\n",
    "\n",
    "- internal representation: m * 2^e\n",
    "\n",
    "- double precision 64 bits: m as 53 bits, e as 11 bits\n",
    "\n",
    "- single precision 32 bits\n",
    "\n",
    "- half precision 16 bits\n",
    "\n",
    "- 8 bits\n",
    "\n",
    "\n",
    "ẋ , x̄, x̃"
   ]
  },
  {
   "cell_type": "code",
   "execution_count": 18,
   "id": "premium-peninsula",
   "metadata": {},
   "outputs": [
    {
     "data": {
      "text/plain": [
       "true"
      ]
     },
     "execution_count": 18,
     "metadata": {},
     "output_type": "execute_result"
    }
   ],
   "source": [
    "isapprox(inv(A)*A, I) "
   ]
  },
  {
   "cell_type": "code",
   "execution_count": 19,
   "id": "bibliographic-attitude",
   "metadata": {},
   "outputs": [
    {
     "data": {
      "text/plain": [
       "true"
      ]
     },
     "execution_count": 19,
     "metadata": {},
     "output_type": "execute_result"
    }
   ],
   "source": [
    "inv(A) * A ≈ I # use \\approx to create the symbol after pressing tab ≈ "
   ]
  },
  {
   "cell_type": "code",
   "execution_count": 20,
   "id": "reasonable-usage",
   "metadata": {},
   "outputs": [
    {
     "data": {
      "text/plain": [
       "3602879701896397//36028797018963968"
      ]
     },
     "execution_count": 20,
     "metadata": {},
     "output_type": "execute_result"
    }
   ],
   "source": [
    "Rational(0.1)"
   ]
  },
  {
   "cell_type": "code",
   "execution_count": 21,
   "id": "professional-carry",
   "metadata": {},
   "outputs": [
    {
     "data": {
      "text/plain": [
       "5.551115123125783e-18"
      ]
     },
     "execution_count": 21,
     "metadata": {},
     "output_type": "execute_result"
    }
   ],
   "source": [
    "float(Rational(0.1)-1//10)"
   ]
  },
  {
   "cell_type": "code",
   "execution_count": 22,
   "id": "thermal-sodium",
   "metadata": {},
   "outputs": [
    {
     "data": {
      "text/plain": [
       "3.141592653589793238462643383279502884197169399375105820974944592307816406286198"
      ]
     },
     "execution_count": 22,
     "metadata": {},
     "output_type": "execute_result"
    }
   ],
   "source": [
    "BigFloat(π) # Float64"
   ]
  },
  {
   "cell_type": "code",
   "execution_count": 23,
   "id": "liberal-craps",
   "metadata": {},
   "outputs": [
    {
     "data": {
      "text/plain": [
       "true"
      ]
     },
     "execution_count": 23,
     "metadata": {},
     "output_type": "execute_result"
    }
   ],
   "source": [
    "isapprox(1,1.0001; atol=1e-3)"
   ]
  },
  {
   "cell_type": "code",
   "execution_count": 24,
   "id": "behavioral-rates",
   "metadata": {},
   "outputs": [
    {
     "data": {
      "text/plain": [
       "1.5"
      ]
     },
     "execution_count": 24,
     "metadata": {},
     "output_type": "execute_result"
    }
   ],
   "source": [
    "2 \\ 3"
   ]
  },
  {
   "cell_type": "code",
   "execution_count": 25,
   "id": "voluntary-mustang",
   "metadata": {},
   "outputs": [
    {
     "data": {
      "text/plain": [
       "10-element Vector{Float64}:\n",
       "   9.786137015012152\n",
       "   2.1067101105236485\n",
       "  -2.246868985965882\n",
       " -13.455025181307148\n",
       "   6.8168468547306045\n",
       "   4.264424925531804\n",
       "  -3.0650562437789493\n",
       "   7.523814324177959\n",
       "  -4.430582758732867\n",
       "  -5.457030724828215"
      ]
     },
     "execution_count": 25,
     "metadata": {},
     "output_type": "execute_result"
    }
   ],
   "source": [
    "A = rand(10,10)\n",
    "b = randn(10)\n",
    "x = A \\ b # use this under operator"
   ]
  },
  {
   "cell_type": "code",
   "execution_count": 26,
   "id": "ambient-federal",
   "metadata": {},
   "outputs": [
    {
     "data": {
      "text/plain": [
       "true"
      ]
     },
     "execution_count": 26,
     "metadata": {},
     "output_type": "execute_result"
    }
   ],
   "source": [
    "A *x ≈ b"
   ]
  },
  {
   "cell_type": "markdown",
   "id": "proper-hamilton",
   "metadata": {},
   "source": [
    "# Least Squares"
   ]
  },
  {
   "cell_type": "code",
   "execution_count": 27,
   "id": "fitting-township",
   "metadata": {},
   "outputs": [
    {
     "data": {
      "text/plain": [
       "4"
      ]
     },
     "execution_count": 27,
     "metadata": {},
     "output_type": "execute_result"
    }
   ],
   "source": [
    "# expansion coefficents\n",
    "pmax = 4"
   ]
  },
  {
   "cell_type": "code",
   "execution_count": 49,
   "id": "optical-exploration",
   "metadata": {},
   "outputs": [
    {
     "data": {
      "text/plain": [
       "11-element LinRange{Float64, Int64}:\n",
       " 0.0,0.628319,1.25664,1.88496,2.51327,…,4.39823,5.02655,5.65487,6.28319"
      ]
     },
     "execution_count": 49,
     "metadata": {},
     "output_type": "execute_result"
    }
   ],
   "source": [
    "#evaluation point\n",
    "npoints = 11\n",
    "x = LinRange(0, 2*π, npoints)"
   ]
  },
  {
   "cell_type": "code",
   "execution_count": 50,
   "id": "convinced-drunk",
   "metadata": {},
   "outputs": [
    {
     "data": {
      "text/plain": [
       "f (generic function with 2 methods)"
      ]
     },
     "execution_count": 50,
     "metadata": {},
     "output_type": "execute_result"
    }
   ],
   "source": [
    "# target function\n",
    "f(x) = sin(x)"
   ]
  },
  {
   "cell_type": "code",
   "execution_count": 51,
   "id": "alike-switzerland",
   "metadata": {},
   "outputs": [
    {
     "data": {
      "text/plain": [
       "11×5 Matrix{Float64}:\n",
       " 1.0  0.0        0.0         0.0         0.0\n",
       " 1.0  0.628319   0.394784    0.24805     0.155855\n",
       " 1.0  1.25664    1.57914     1.9844      2.49367\n",
       " 1.0  1.88496    3.55306     6.69736    12.6242\n",
       " 1.0  2.51327    6.31655    15.8752     39.8988\n",
       " 1.0  3.14159    9.8696     31.0063     97.4091\n",
       " 1.0  3.76991   14.2122     53.5788    201.987\n",
       " 1.0  4.39823   19.3444     85.0812    374.207\n",
       " 1.0  5.02655   25.2662    127.002     638.38\n",
       " 1.0  5.65487   31.9775    180.829    1022.56\n",
       " 1.0  6.28319   39.4784    248.05     1558.55"
      ]
     },
     "execution_count": 51,
     "metadata": {},
     "output_type": "execute_result"
    }
   ],
   "source": [
    "# matrix\n",
    "A = [x[i]^p for i in 1:npoints, p in 0:pmax]"
   ]
  },
  {
   "cell_type": "code",
   "execution_count": 52,
   "id": "legal-westminster",
   "metadata": {},
   "outputs": [
    {
     "data": {
      "text/plain": [
       "11-element Vector{Float64}:\n",
       "  0.0\n",
       "  0.5877852522924731\n",
       "  0.9510565162951535\n",
       "  0.9510565162951536\n",
       "  0.5877852522924732\n",
       "  1.2246467991473532e-16\n",
       " -0.587785252292473\n",
       " -0.9510565162951535\n",
       " -0.9510565162951536\n",
       " -0.5877852522924734\n",
       " -2.4492935982947064e-16"
      ]
     },
     "execution_count": 52,
     "metadata": {},
     "output_type": "execute_result"
    }
   ],
   "source": [
    "fstart(x) = sin(x)\n",
    "b = fstart.(x)"
   ]
  },
  {
   "cell_type": "code",
   "execution_count": 53,
   "id": "covered-guarantee",
   "metadata": {},
   "outputs": [
    {
     "data": {
      "text/plain": [
       "5-element Vector{Float64}:\n",
       " -0.06350896223836319\n",
       "  1.7067771322018093\n",
       " -0.8052738471997284\n",
       "  0.08544220888303738\n",
       " -8.360349981092898e-15"
      ]
     },
     "execution_count": 53,
     "metadata": {},
     "output_type": "execute_result"
    }
   ],
   "source": [
    "c = (A'*A) \\ (A' * b)"
   ]
  },
  {
   "cell_type": "code",
   "execution_count": 54,
   "id": "sudden-decade",
   "metadata": {},
   "outputs": [
    {
     "data": {
      "text/plain": [
       "f (generic function with 2 methods)"
      ]
     },
     "execution_count": 54,
     "metadata": {},
     "output_type": "execute_result"
    }
   ],
   "source": [
    "f(c, x) = sum(c[p+1]* x^p for p in 0:pmax)"
   ]
  },
  {
   "cell_type": "code",
   "execution_count": 38,
   "id": "incorrect-hybrid",
   "metadata": {},
   "outputs": [],
   "source": [
    "using WGLMakie"
   ]
  },
  {
   "cell_type": "code",
   "execution_count": 56,
   "id": "adolescent-price",
   "metadata": {},
   "outputs": [
    {
     "data": {
      "text/html": [
       "<div id=\"91f2ecb4-0f16-4a93-a009-b16548408bc4\" data-jscall-id=\"jsserver-application-dom\">\n",
       "  <script data-jscall-id=\"22\" src=\"data:application/javascript;base64,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\" type=\"module\"></script>\n",
       "  <div data-jscall-id=\"20\">\n",
       "    <canvas data-jscall-id=\"19\" tabindex=\"0\"></canvas>\n",
       "  </div>\n",
       "</div>"
      ]
     },
     "execution_count": 56,
     "metadata": {},
     "output_type": "execute_result"
    }
   ],
   "source": [
    "fig = Figure()\n",
    "Axis(fig[1,1])\n",
    "xx = LinRange(0, 2*π, 201)\n",
    "yy = [f(c,x) for x in xx]\n",
    "lines!(xx,fstart.(xx))\n",
    "lines!(xx, yy)\n",
    "scatter!(x, [f(c,x′) for x′ in x])\n",
    "fig"
   ]
  },
  {
   "cell_type": "code",
   "execution_count": 59,
   "id": "bottom-prerequisite",
   "metadata": {},
   "outputs": [
    {
     "data": {
      "text/html": [
       "<div id=\"6a48361f-7d96-40ca-a3f7-195622900169\" data-jscall-id=\"jsserver-application-dom\">\n",
       "  <script data-jscall-id=\"26\" src=\"data:application/javascript;base64,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\" type=\"module\"></script>\n",
       "  <div data-jscall-id=\"24\">\n",
       "    <canvas data-jscall-id=\"23\" tabindex=\"0\"></canvas>\n",
       "  </div>\n",
       "</div>"
      ]
     },
     "execution_count": 59,
     "metadata": {},
     "output_type": "execute_result"
    }
   ],
   "source": [
    "fig = Figure()\n",
    "Axis(fig[1,1])\n",
    "xx = LinRange(0, 2*π, 201)\n",
    "yy = [f(c,x) - fstart.(x) for x in xx]\n",
    "lines!(xx, yy)\n",
    "fig"
   ]
  },
  {
   "cell_type": "code",
   "execution_count": null,
   "id": "ethical-alloy",
   "metadata": {},
   "outputs": [],
   "source": []
  },
  {
   "cell_type": "markdown",
   "id": "authentic-bandwidth",
   "metadata": {},
   "source": [
    "## Matrix Operation"
   ]
  },
  {
   "cell_type": "markdown",
   "id": "blond-sampling",
   "metadata": {},
   "source": [
    "- LU Decomposition\n",
    "- A = L*U"
   ]
  },
  {
   "cell_type": "code",
   "execution_count": 60,
   "id": "hungarian-astrology",
   "metadata": {},
   "outputs": [],
   "source": [
    "A = randn(4,4);"
   ]
  },
  {
   "cell_type": "code",
   "execution_count": 68,
   "id": "about-album",
   "metadata": {},
   "outputs": [],
   "source": [
    "# permutation is needed to be accounted for\n",
    "Low = lu(A).L;\n",
    "Upp = lu(A).U;"
   ]
  },
  {
   "cell_type": "code",
   "execution_count": 64,
   "id": "clinical-vacation",
   "metadata": {},
   "outputs": [
    {
     "data": {
      "text/plain": [
       "false"
      ]
     },
     "execution_count": 64,
     "metadata": {},
     "output_type": "execute_result"
    }
   ],
   "source": [
    "Low * Upp ≈ A"
   ]
  },
  {
   "cell_type": "markdown",
   "id": "chief-apache",
   "metadata": {},
   "source": [
    "- QR decomposition\n",
    "- A = Q * R\n",
    "- Q is orthogonal matrix, right triangular matrix"
   ]
  },
  {
   "cell_type": "code",
   "execution_count": 65,
   "id": "african-sussex",
   "metadata": {},
   "outputs": [],
   "source": [
    "q = qr(A).Q\n",
    "r = qr(A).R;"
   ]
  },
  {
   "cell_type": "code",
   "execution_count": 67,
   "id": "specific-monday",
   "metadata": {},
   "outputs": [
    {
     "data": {
      "text/plain": [
       "true"
      ]
     },
     "execution_count": 67,
     "metadata": {},
     "output_type": "execute_result"
    }
   ],
   "source": [
    "q * r ≈ A"
   ]
  },
  {
   "cell_type": "markdown",
   "id": "frequent-consequence",
   "metadata": {},
   "source": [
    "# Linear Operators and Matrics"
   ]
  },
  {
   "cell_type": "code",
   "execution_count": 69,
   "id": "settled-madness",
   "metadata": {},
   "outputs": [],
   "source": [
    "using SparseArrays"
   ]
  },
  {
   "cell_type": "code",
   "execution_count": 70,
   "id": "tight-yellow",
   "metadata": {},
   "outputs": [
    {
     "data": {
      "text/plain": [
       "10×10 SparseMatrixCSC{Float64, Int64} with 10 stored entries:\n",
       "  ⋅    ⋅    ⋅        ⋅     ⋅         ⋅       …   ⋅          ⋅         ⋅ \n",
       "  ⋅    ⋅    ⋅        ⋅     ⋅         ⋅           ⋅          ⋅         ⋅ \n",
       "  ⋅    ⋅   1.34123   ⋅     ⋅         ⋅           ⋅          ⋅         ⋅ \n",
       "  ⋅    ⋅    ⋅        ⋅     ⋅         ⋅           ⋅          ⋅         ⋅ \n",
       "  ⋅    ⋅    ⋅        ⋅   -0.205012   ⋅           ⋅          ⋅         ⋅ \n",
       "  ⋅    ⋅    ⋅        ⋅     ⋅         ⋅       …   ⋅          ⋅         ⋅ \n",
       "  ⋅    ⋅    ⋅        ⋅   -0.572688   ⋅          1.27386   -1.01286    ⋅ \n",
       "  ⋅    ⋅    ⋅        ⋅     ⋅        1.60425      ⋅          ⋅         ⋅ \n",
       "  ⋅    ⋅    ⋅        ⋅     ⋅         ⋅           ⋅          ⋅         ⋅ \n",
       "  ⋅    ⋅    ⋅        ⋅     ⋅         ⋅          0.418653  -0.868269  0.330927"
      ]
     },
     "execution_count": 70,
     "metadata": {},
     "output_type": "execute_result"
    }
   ],
   "source": [
    "A = sprandn(10, 10, 1/10)"
   ]
  },
  {
   "cell_type": "code",
   "execution_count": 72,
   "id": "treated-scotland",
   "metadata": {},
   "outputs": [
    {
     "data": {
      "text/plain": [
       "10-element Vector{ComplexF64}:\n",
       " -0.37419912999134014 - 0.6481319052930721im\n",
       " -0.37419912999134014 + 0.6481319052930721im\n",
       " -0.20501212260439255 + 0.0im\n",
       "                  0.0 + 0.0im\n",
       "                  0.0 + 0.0im\n",
       "                  0.0 + 0.0im\n",
       "                  0.0 + 0.0im\n",
       "   0.3309271351193155 + 0.0im\n",
       "   0.7483982599826804 + 0.0im\n",
       "    1.341232689340303 + 0.0im"
      ]
     },
     "execution_count": 72,
     "metadata": {},
     "output_type": "execute_result"
    }
   ],
   "source": [
    "eigvals(Matrix(A)) # don't do this is server, because it is inefficients\n",
    "# applying matrix iteratively to find for the eigenvalues and matrices"
   ]
  },
  {
   "cell_type": "code",
   "execution_count": 73,
   "id": "induced-architecture",
   "metadata": {},
   "outputs": [
    {
     "name": "stderr",
     "output_type": "stream",
     "text": [
      "\u001b[32m\u001b[1m    Updating\u001b[22m\u001b[39m registry at `~/.julia/registries/General.toml`\n",
      "\u001b[32m\u001b[1m   Resolving\u001b[22m\u001b[39m package versions...\n",
      "\u001b[32m\u001b[1m   Installed\u001b[22m\u001b[39m Arpack_jll ─ v3.5.1+1\n",
      "\u001b[32m\u001b[1m   Installed\u001b[22m\u001b[39m Arpack ───── v0.5.4\n",
      "\u001b[32m\u001b[1m    Updating\u001b[22m\u001b[39m `~/.julia/environments/v1.8/Project.toml`\n",
      " \u001b[90m [7d9fca2a] \u001b[39m\u001b[92m+ Arpack v0.5.4\u001b[39m\n",
      "\u001b[32m\u001b[1m    Updating\u001b[22m\u001b[39m `~/.julia/environments/v1.8/Manifest.toml`\n",
      " \u001b[90m [7d9fca2a] \u001b[39m\u001b[92m+ Arpack v0.5.4\u001b[39m\n",
      "\u001b[33m⌅\u001b[39m\u001b[90m [68821587] \u001b[39m\u001b[92m+ Arpack_jll v3.5.1+1\u001b[39m\n",
      "\u001b[36m\u001b[1m        Info\u001b[22m\u001b[39m Packages marked with \u001b[33m⌅\u001b[39m have new versions available but compatibility constraints restrict them from upgrading. To see why use `status --outdated -m`\n",
      "\u001b[32m\u001b[1mPrecompiling\u001b[22m\u001b[39m project...\n",
      "\u001b[32m  ✓ \u001b[39m\u001b[90mArpack_jll\u001b[39m\n",
      "\u001b[32m  ✓ \u001b[39mArpack\n",
      "  2 dependencies successfully precompiled in 9 seconds. 273 already precompiled.\n"
     ]
    }
   ],
   "source": [
    "]add Arpack # Arnoldi iterations for real symmetric "
   ]
  },
  {
   "cell_type": "code",
   "execution_count": 74,
   "id": "secondary-palestine",
   "metadata": {},
   "outputs": [],
   "source": [
    "using Arpack"
   ]
  },
  {
   "cell_type": "code",
   "execution_count": 75,
   "id": "technological-contract",
   "metadata": {},
   "outputs": [
    {
     "data": {
      "text/plain": [
       "(ComplexF64[1.341232689340303 + 0.0im, -0.37419912999134075 + 0.648131905293072im, -0.37419912999134075 - 0.648131905293072im, 0.74839825998268 + 0.0im], ComplexF64[1.0579669388862433e-17 + 0.0im 8.849811101580706e-19 - 5.39160531624513e-17im 8.849811101580706e-19 + 5.39160531624513e-17im -3.300309642335504e-17 + 0.0im; 1.4370204648353316e-20 + 0.0im 5.338929410713101e-22 - 1.161552850753584e-19im 5.338929410713101e-22 + 1.161552850753584e-19im -6.812740647847932e-20 + 0.0im; … ; 1.2221620914872766e-17 + 0.0im -9.107767336865035e-18 - 3.812467350785373e-17im -9.107767336865035e-18 + 3.812467350785373e-17im -3.9851059320574117e-17 + 0.0im; 7.412551671379199e-17 + 0.0im 0.0311178185986144 + 0.20834432991714685im 0.0311178185986144 - 0.20834432991714685im -0.4431721826057228 + 0.0im], 4, 1, 10, [0.0, 0.0, 0.0, 0.0, 0.0, 0.0, 0.0, 0.0, 0.0, 0.0])"
      ]
     },
     "execution_count": 75,
     "metadata": {},
     "output_type": "execute_result"
    }
   ],
   "source": [
    "eigs(A; nev=4)"
   ]
  },
  {
   "cell_type": "code",
   "execution_count": null,
   "id": "accepted-necessity",
   "metadata": {},
   "outputs": [],
   "source": []
  }
 ],
 "metadata": {
  "kernelspec": {
   "display_name": "Julia 1.8.4",
   "language": "julia",
   "name": "julia-1.8"
  },
  "language_info": {
   "file_extension": ".jl",
   "mimetype": "application/julia",
   "name": "julia",
   "version": "1.8.4"
  }
 },
 "nbformat": 4,
 "nbformat_minor": 5
}
