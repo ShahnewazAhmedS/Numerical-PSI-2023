{
 "cells": [
  {
   "cell_type": "markdown",
   "id": "supreme-underground",
   "metadata": {},
   "source": [
    "# Dual Number Package"
   ]
  },
  {
   "cell_type": "code",
   "execution_count": 1,
   "id": "judicial-ranch",
   "metadata": {},
   "outputs": [
    {
     "name": "stdout",
     "output_type": "stream",
     "text": [
      "Julia Version 1.8.4\n",
      "Commit 00177ebc4fc (2022-12-23 21:32 UTC)\n",
      "Platform Info:\n",
      "  OS: Linux (x86_64-linux-gnu)\n",
      "  CPU: 80 × Intel(R) Xeon(R) Gold 6148 CPU @ 2.40GHz\n",
      "  WORD_SIZE: 64\n",
      "  LIBM: libopenlibm\n",
      "  LLVM: libLLVM-13.0.1 (ORCJIT, skylake-avx512)\n",
      "  Threads: 1 on 80 virtual cores\n"
     ]
    }
   ],
   "source": [
    "versioninfo()"
   ]
  },
  {
   "cell_type": "code",
   "execution_count": 10,
   "id": "unexpected-richards",
   "metadata": {},
   "outputs": [
    {
     "name": "stderr",
     "output_type": "stream",
     "text": [
      "\u001b[32m\u001b[1m  Activating\u001b[22m\u001b[39m project at `~/numerical/DualNumbers`\n"
     ]
    }
   ],
   "source": [
    "]activate DualNumbers "
   ]
  },
  {
   "cell_type": "code",
   "execution_count": 9,
   "id": "lonely-nelson",
   "metadata": {},
   "outputs": [
    {
     "name": "stderr",
     "output_type": "stream",
     "text": [
      "\u001b[32m\u001b[1m     Testing\u001b[22m\u001b[39m DualNumbers\n",
      "\u001b[32m\u001b[1m      Status\u001b[22m\u001b[39m `/tmp/jl_zCu2JS/Project.toml`\n",
      " \u001b[90m [84cc2a82] \u001b[39mDualNumbers v0.1.0 `~/numerical/DualNumbers`\n",
      " \u001b[90m [8dfed614] \u001b[39mTest `@stdlib/Test`\n",
      "\u001b[32m\u001b[1m      Status\u001b[22m\u001b[39m `/tmp/jl_zCu2JS/Manifest.toml`\n",
      " \u001b[90m [84cc2a82] \u001b[39mDualNumbers v0.1.0 `~/numerical/DualNumbers`\n",
      " \u001b[90m [2a0f44e3] \u001b[39mBase64 `@stdlib/Base64`\n",
      " \u001b[90m [b77e0a4c] \u001b[39mInteractiveUtils `@stdlib/InteractiveUtils`\n",
      " \u001b[90m [56ddb016] \u001b[39mLogging `@stdlib/Logging`\n",
      " \u001b[90m [d6f4376e] \u001b[39mMarkdown `@stdlib/Markdown`\n",
      " \u001b[90m [9a3f8284] \u001b[39mRandom `@stdlib/Random`\n",
      " \u001b[90m [ea8e919c] \u001b[39mSHA v0.7.0 `@stdlib/SHA`\n",
      " \u001b[90m [9e88b42a] \u001b[39mSerialization `@stdlib/Serialization`\n",
      " \u001b[90m [8dfed614] \u001b[39mTest `@stdlib/Test`\n",
      "\u001b[32m\u001b[1mPrecompiling\u001b[22m\u001b[39m project...\n",
      "\u001b[32m  ✓ \u001b[39mDualNumbers\n",
      "  1 dependency successfully precompiled in 0 seconds\n",
      "\u001b[32m\u001b[1m     Testing\u001b[22m\u001b[39m Running tests...\n",
      "\u001b[32m\u001b[1m     Testing\u001b[22m\u001b[39m DualNumbers tests passed \n"
     ]
    }
   ],
   "source": [
    "]test"
   ]
  },
  {
   "cell_type": "code",
   "execution_count": 11,
   "id": "virgin-paris",
   "metadata": {},
   "outputs": [
    {
     "ename": "LoadError",
     "evalue": "UndefVarError: Dual not defined",
     "output_type": "error",
     "traceback": [
      "UndefVarError: Dual not defined",
      "",
      "Stacktrace:",
      " [1] top-level scope",
      "   @ In[11]:1"
     ]
    }
   ],
   "source": [
    "x = Dual(3,2)\n",
    "y = Dual(4,5)\n",
    "x/y"
   ]
  },
  {
   "cell_type": "code",
   "execution_count": null,
   "id": "stopped-composer",
   "metadata": {},
   "outputs": [],
   "source": []
  }
 ],
 "metadata": {
  "kernelspec": {
   "display_name": "Julia 1.8.4",
   "language": "julia",
   "name": "julia-1.8"
  },
  "language_info": {
   "file_extension": ".jl",
   "mimetype": "application/julia",
   "name": "julia",
   "version": "1.8.4"
  }
 },
 "nbformat": 4,
 "nbformat_minor": 5
}
